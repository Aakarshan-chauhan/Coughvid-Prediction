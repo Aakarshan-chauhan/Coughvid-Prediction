{
  "nbformat": 4,
  "nbformat_minor": 0,
  "metadata": {
    "accelerator": "GPU",
    "colab": {
      "name": "covidPreds.ipynb",
      "provenance": [],
      "collapsed_sections": []
    },
    "kernelspec": {
      "display_name": "Python 3",
      "name": "python3"
    },
    "language_info": {
      "name": "python"
    }
  },
  "cells": [
    {
      "cell_type": "code",
      "metadata": {
        "colab": {
          "base_uri": "https://localhost:8080/"
        },
        "id": "-12zjt0zsEiC",
        "outputId": "f7092db1-3060-4d2c-9060-954fdf3b0b06"
      },
      "source": [
        "!wget https://zenodo.org/record/4498364/files/public_dataset.zip"
      ],
      "execution_count": 1,
      "outputs": [
        {
          "output_type": "stream",
          "text": [
            "--2021-07-15 20:15:51--  https://zenodo.org/record/4498364/files/public_dataset.zip\n",
            "Resolving zenodo.org (zenodo.org)... 137.138.76.77\n",
            "Connecting to zenodo.org (zenodo.org)|137.138.76.77|:443... connected.\n",
            "HTTP request sent, awaiting response... 200 OK\n",
            "Length: 1332806163 (1.2G) [application/octet-stream]\n",
            "Saving to: ‘public_dataset.zip’\n",
            "\n",
            "public_dataset.zip  100%[===================>]   1.24G  8.22MB/s    in 88s     \n",
            "\n",
            "2021-07-15 20:17:20 (14.5 MB/s) - ‘public_dataset.zip’ saved [1332806163/1332806163]\n",
            "\n"
          ],
          "name": "stdout"
        }
      ]
    },
    {
      "cell_type": "code",
      "metadata": {
        "id": "Bz7OfEPosNKC"
      },
      "source": [
        "!unzip public_dataset.zip\n",
        "!pip install audiosegment\n",
        "!pip install tensorflow-io\n",
        "!pip install pydub"
      ],
      "execution_count": null,
      "outputs": []
    },
    {
      "cell_type": "code",
      "metadata": {
        "id": "NJH59iZ8vrNH"
      },
      "source": [
        "import json\n",
        "import pandas as pd\n",
        "from pydub import AudioSegment\n",
        "import tqdm\n",
        "import os\n",
        "from keras.preprocessing.sequence import pad_sequences\n",
        "import numpy as np\n",
        "import tensorflow as tf\n",
        "import matplotlib.pyplot as plt\n",
        "directory = 'public_dataset'\n",
        "k = []\n",
        "def read_json(x, audios):\n",
        "    with open(x, 'r') as j:\n",
        "        d= json.load(j)\n",
        " \n",
        "        d['audioName'] = audios\n",
        "        return d\n",
        " \n",
        "datas = []\n",
        "audios = None\n",
        "for filename in os.listdir(directory):\n",
        "    f = os.path.join(directory, filename)\n",
        "    if f.endswith('json'):\n",
        "        datas.append(read_json(f, audios))\n",
        " \n",
        "    else:\n",
        "        audios = f\n",
        "    \n",
        " \n",
        "df = pd.DataFrame(datas,)"
      ],
      "execution_count": 1,
      "outputs": []
    },
    {
      "cell_type": "code",
      "metadata": {
        "id": "MGQq3TZy0uGv",
        "colab": {
          "base_uri": "https://localhost:8080/"
        },
        "outputId": "f0c54ef6-2db4-4e13-b3ed-f85ace605689"
      },
      "source": [
        "df.info()\n",
        "del datas"
      ],
      "execution_count": 2,
      "outputs": [
        {
          "output_type": "stream",
          "text": [
            "<class 'pandas.core.frame.DataFrame'>\n",
            "RangeIndex: 27550 entries, 0 to 27549\n",
            "Data columns (total 14 columns):\n",
            " #   Column                 Non-Null Count  Dtype \n",
            "---  ------                 --------------  ----- \n",
            " 0   datetime               27550 non-null  object\n",
            " 1   cough_detected         27550 non-null  object\n",
            " 2   audioName              27550 non-null  object\n",
            " 3   latitude               16084 non-null  object\n",
            " 4   longitude              16084 non-null  object\n",
            " 5   age                    15218 non-null  object\n",
            " 6   gender                 16224 non-null  object\n",
            " 7   respiratory_condition  16224 non-null  object\n",
            " 8   fever_muscle_pain      16224 non-null  object\n",
            " 9   status                 16224 non-null  object\n",
            " 10  expert_labels_2        820 non-null    object\n",
            " 11  expert_labels_3        820 non-null    object\n",
            " 12  expert_labels_4        820 non-null    object\n",
            " 13  expert_labels_1        820 non-null    object\n",
            "dtypes: object(14)\n",
            "memory usage: 2.9+ MB\n"
          ],
          "name": "stdout"
        }
      ]
    },
    {
      "cell_type": "code",
      "metadata": {
        "id": "pN4xq0JeVJkH"
      },
      "source": [
        "dropdf = df.drop(columns=['datetime','latitude','longitude', 'expert_labels_4', 'expert_labels_3','expert_labels_2','expert_labels_1'])"
      ],
      "execution_count": 3,
      "outputs": []
    },
    {
      "cell_type": "code",
      "metadata": {
        "id": "MA1fS01wL2Ic",
        "colab": {
          "base_uri": "https://localhost:8080/",
          "height": 402
        },
        "outputId": "142cdcaf-2189-4c27-bcf5-426f51dc6605"
      },
      "source": [
        "noNulldf = dropdf.dropna(axis=0)\n",
        "noNulldf"
      ],
      "execution_count": 4,
      "outputs": [
        {
          "output_type": "execute_result",
          "data": {
            "text/html": [
              "<div>\n",
              "<style scoped>\n",
              "    .dataframe tbody tr th:only-of-type {\n",
              "        vertical-align: middle;\n",
              "    }\n",
              "\n",
              "    .dataframe tbody tr th {\n",
              "        vertical-align: top;\n",
              "    }\n",
              "\n",
              "    .dataframe thead th {\n",
              "        text-align: right;\n",
              "    }\n",
              "</style>\n",
              "<table border=\"1\" class=\"dataframe\">\n",
              "  <thead>\n",
              "    <tr style=\"text-align: right;\">\n",
              "      <th></th>\n",
              "      <th>cough_detected</th>\n",
              "      <th>audioName</th>\n",
              "      <th>age</th>\n",
              "      <th>gender</th>\n",
              "      <th>respiratory_condition</th>\n",
              "      <th>fever_muscle_pain</th>\n",
              "      <th>status</th>\n",
              "    </tr>\n",
              "  </thead>\n",
              "  <tbody>\n",
              "    <tr>\n",
              "      <th>1</th>\n",
              "      <td>0.9901</td>\n",
              "      <td>public_dataset/ba1ce016-b24d-434a-99b6-b93117d...</td>\n",
              "      <td>33</td>\n",
              "      <td>male</td>\n",
              "      <td>False</td>\n",
              "      <td>False</td>\n",
              "      <td>healthy</td>\n",
              "    </tr>\n",
              "    <tr>\n",
              "      <th>3</th>\n",
              "      <td>0.9847</td>\n",
              "      <td>public_dataset/ba1ce016-b24d-434a-99b6-b93117d...</td>\n",
              "      <td>31</td>\n",
              "      <td>male</td>\n",
              "      <td>False</td>\n",
              "      <td>False</td>\n",
              "      <td>healthy</td>\n",
              "    </tr>\n",
              "    <tr>\n",
              "      <th>4</th>\n",
              "      <td>0.9897</td>\n",
              "      <td>public_dataset/809a82a8-9bd3-4fae-82df-f296fac...</td>\n",
              "      <td>36</td>\n",
              "      <td>male</td>\n",
              "      <td>True</td>\n",
              "      <td>False</td>\n",
              "      <td>healthy</td>\n",
              "    </tr>\n",
              "    <tr>\n",
              "      <th>5</th>\n",
              "      <td>0.9974</td>\n",
              "      <td>public_dataset/809a82a8-9bd3-4fae-82df-f296fac...</td>\n",
              "      <td>18</td>\n",
              "      <td>male</td>\n",
              "      <td>False</td>\n",
              "      <td>False</td>\n",
              "      <td>healthy</td>\n",
              "    </tr>\n",
              "    <tr>\n",
              "      <th>9</th>\n",
              "      <td>0.9961</td>\n",
              "      <td>public_dataset/84b39e54-1788-4b16-875f-6696701...</td>\n",
              "      <td>24</td>\n",
              "      <td>female</td>\n",
              "      <td>False</td>\n",
              "      <td>False</td>\n",
              "      <td>healthy</td>\n",
              "    </tr>\n",
              "    <tr>\n",
              "      <th>...</th>\n",
              "      <td>...</td>\n",
              "      <td>...</td>\n",
              "      <td>...</td>\n",
              "      <td>...</td>\n",
              "      <td>...</td>\n",
              "      <td>...</td>\n",
              "      <td>...</td>\n",
              "    </tr>\n",
              "    <tr>\n",
              "      <th>27542</th>\n",
              "      <td>0.9844</td>\n",
              "      <td>public_dataset/56a4e179-3a06-42f2-b029-1924db4...</td>\n",
              "      <td>45</td>\n",
              "      <td>male</td>\n",
              "      <td>False</td>\n",
              "      <td>False</td>\n",
              "      <td>healthy</td>\n",
              "    </tr>\n",
              "    <tr>\n",
              "      <th>27544</th>\n",
              "      <td>0.8558</td>\n",
              "      <td>public_dataset/56a4e179-3a06-42f2-b029-1924db4...</td>\n",
              "      <td>20</td>\n",
              "      <td>male</td>\n",
              "      <td>False</td>\n",
              "      <td>False</td>\n",
              "      <td>healthy</td>\n",
              "    </tr>\n",
              "    <tr>\n",
              "      <th>27545</th>\n",
              "      <td>0.9620</td>\n",
              "      <td>public_dataset/10c2cd2a-d467-4535-8b63-f8cf820...</td>\n",
              "      <td>31</td>\n",
              "      <td>male</td>\n",
              "      <td>False</td>\n",
              "      <td>False</td>\n",
              "      <td>symptomatic</td>\n",
              "    </tr>\n",
              "    <tr>\n",
              "      <th>27546</th>\n",
              "      <td>0.4848</td>\n",
              "      <td>public_dataset/6d45e866-26cd-4c90-b538-8e3d746...</td>\n",
              "      <td>23</td>\n",
              "      <td>male</td>\n",
              "      <td>False</td>\n",
              "      <td>False</td>\n",
              "      <td>symptomatic</td>\n",
              "    </tr>\n",
              "    <tr>\n",
              "      <th>27548</th>\n",
              "      <td>0.8943</td>\n",
              "      <td>public_dataset/64117c4c-1389-4044-8cb0-b957eb0...</td>\n",
              "      <td>28</td>\n",
              "      <td>male</td>\n",
              "      <td>False</td>\n",
              "      <td>False</td>\n",
              "      <td>symptomatic</td>\n",
              "    </tr>\n",
              "  </tbody>\n",
              "</table>\n",
              "<p>15218 rows × 7 columns</p>\n",
              "</div>"
            ],
            "text/plain": [
              "      cough_detected  ...       status\n",
              "1             0.9901  ...      healthy\n",
              "3             0.9847  ...      healthy\n",
              "4             0.9897  ...      healthy\n",
              "5             0.9974  ...      healthy\n",
              "9             0.9961  ...      healthy\n",
              "...              ...  ...          ...\n",
              "27542         0.9844  ...      healthy\n",
              "27544         0.8558  ...      healthy\n",
              "27545         0.9620  ...  symptomatic\n",
              "27546         0.4848  ...  symptomatic\n",
              "27548         0.8943  ...  symptomatic\n",
              "\n",
              "[15218 rows x 7 columns]"
            ]
          },
          "metadata": {
            "tags": []
          },
          "execution_count": 4
        }
      ]
    },
    {
      "cell_type": "code",
      "metadata": {
        "id": "iOJiaJA8KHSV"
      },
      "source": [
        ""
      ],
      "execution_count": 4,
      "outputs": []
    },
    {
      "cell_type": "code",
      "metadata": {
        "id": "qqwlfcihX09A",
        "colab": {
          "base_uri": "https://localhost:8080/"
        },
        "outputId": "2b6de19b-a39c-4d05-ff6e-c90158cf13a3"
      },
      "source": [
        "noNulldf.status.unique()"
      ],
      "execution_count": 5,
      "outputs": [
        {
          "output_type": "execute_result",
          "data": {
            "text/plain": [
              "array(['healthy', 'COVID-19', 'symptomatic'], dtype=object)"
            ]
          },
          "metadata": {
            "tags": []
          },
          "execution_count": 5
        }
      ]
    },
    {
      "cell_type": "code",
      "metadata": {
        "id": "JpqOrwjWHpm7",
        "colab": {
          "base_uri": "https://localhost:8080/"
        },
        "outputId": "4b4c4fb2-6ab7-462e-febc-2307721c7a50"
      },
      "source": [
        "# convert false / true to 0/1\n",
        "ft_map = {'False' : 0, 'True': 1}\n",
        "status_map = {\n",
        "    'healthy':0,\n",
        "    'COVID-19':1,\n",
        "    'symptomatic':2\n",
        "}\n",
        "gender_map = {'male' : 0, 'female' :1}\n",
        "# considering \n",
        "noNulldf.respiratory_condition = noNulldf.respiratory_condition.map(ft_map)\n",
        "noNulldf.fever_muscle_pain = noNulldf.fever_muscle_pain.map(ft_map)\n",
        "noNulldf.status = noNulldf.status.map(status_map)\n",
        "noNulldf.gender = noNulldf.gender.map(gender_map)"
      ],
      "execution_count": 6,
      "outputs": [
        {
          "output_type": "stream",
          "text": [
            "/usr/local/lib/python3.7/dist-packages/pandas/core/generic.py:5170: SettingWithCopyWarning: \n",
            "A value is trying to be set on a copy of a slice from a DataFrame.\n",
            "Try using .loc[row_indexer,col_indexer] = value instead\n",
            "\n",
            "See the caveats in the documentation: https://pandas.pydata.org/pandas-docs/stable/user_guide/indexing.html#returning-a-view-versus-a-copy\n",
            "  self[name] = value\n"
          ],
          "name": "stderr"
        }
      ]
    },
    {
      "cell_type": "code",
      "metadata": {
        "id": "P8YUYBQQgWUJ"
      },
      "source": [
        ""
      ],
      "execution_count": 6,
      "outputs": []
    },
    {
      "cell_type": "code",
      "metadata": {
        "id": "lBcJsGnrIu07",
        "colab": {
          "base_uri": "https://localhost:8080/",
          "height": 402
        },
        "outputId": "486fd796-02b7-4649-e0a7-01a6df5737dd"
      },
      "source": [
        "noNulldf"
      ],
      "execution_count": 7,
      "outputs": [
        {
          "output_type": "execute_result",
          "data": {
            "text/html": [
              "<div>\n",
              "<style scoped>\n",
              "    .dataframe tbody tr th:only-of-type {\n",
              "        vertical-align: middle;\n",
              "    }\n",
              "\n",
              "    .dataframe tbody tr th {\n",
              "        vertical-align: top;\n",
              "    }\n",
              "\n",
              "    .dataframe thead th {\n",
              "        text-align: right;\n",
              "    }\n",
              "</style>\n",
              "<table border=\"1\" class=\"dataframe\">\n",
              "  <thead>\n",
              "    <tr style=\"text-align: right;\">\n",
              "      <th></th>\n",
              "      <th>cough_detected</th>\n",
              "      <th>audioName</th>\n",
              "      <th>age</th>\n",
              "      <th>gender</th>\n",
              "      <th>respiratory_condition</th>\n",
              "      <th>fever_muscle_pain</th>\n",
              "      <th>status</th>\n",
              "    </tr>\n",
              "  </thead>\n",
              "  <tbody>\n",
              "    <tr>\n",
              "      <th>1</th>\n",
              "      <td>0.9901</td>\n",
              "      <td>public_dataset/ba1ce016-b24d-434a-99b6-b93117d...</td>\n",
              "      <td>33</td>\n",
              "      <td>0.0</td>\n",
              "      <td>0</td>\n",
              "      <td>0</td>\n",
              "      <td>0</td>\n",
              "    </tr>\n",
              "    <tr>\n",
              "      <th>3</th>\n",
              "      <td>0.9847</td>\n",
              "      <td>public_dataset/ba1ce016-b24d-434a-99b6-b93117d...</td>\n",
              "      <td>31</td>\n",
              "      <td>0.0</td>\n",
              "      <td>0</td>\n",
              "      <td>0</td>\n",
              "      <td>0</td>\n",
              "    </tr>\n",
              "    <tr>\n",
              "      <th>4</th>\n",
              "      <td>0.9897</td>\n",
              "      <td>public_dataset/809a82a8-9bd3-4fae-82df-f296fac...</td>\n",
              "      <td>36</td>\n",
              "      <td>0.0</td>\n",
              "      <td>1</td>\n",
              "      <td>0</td>\n",
              "      <td>0</td>\n",
              "    </tr>\n",
              "    <tr>\n",
              "      <th>5</th>\n",
              "      <td>0.9974</td>\n",
              "      <td>public_dataset/809a82a8-9bd3-4fae-82df-f296fac...</td>\n",
              "      <td>18</td>\n",
              "      <td>0.0</td>\n",
              "      <td>0</td>\n",
              "      <td>0</td>\n",
              "      <td>0</td>\n",
              "    </tr>\n",
              "    <tr>\n",
              "      <th>9</th>\n",
              "      <td>0.9961</td>\n",
              "      <td>public_dataset/84b39e54-1788-4b16-875f-6696701...</td>\n",
              "      <td>24</td>\n",
              "      <td>1.0</td>\n",
              "      <td>0</td>\n",
              "      <td>0</td>\n",
              "      <td>0</td>\n",
              "    </tr>\n",
              "    <tr>\n",
              "      <th>...</th>\n",
              "      <td>...</td>\n",
              "      <td>...</td>\n",
              "      <td>...</td>\n",
              "      <td>...</td>\n",
              "      <td>...</td>\n",
              "      <td>...</td>\n",
              "      <td>...</td>\n",
              "    </tr>\n",
              "    <tr>\n",
              "      <th>27542</th>\n",
              "      <td>0.9844</td>\n",
              "      <td>public_dataset/56a4e179-3a06-42f2-b029-1924db4...</td>\n",
              "      <td>45</td>\n",
              "      <td>0.0</td>\n",
              "      <td>0</td>\n",
              "      <td>0</td>\n",
              "      <td>0</td>\n",
              "    </tr>\n",
              "    <tr>\n",
              "      <th>27544</th>\n",
              "      <td>0.8558</td>\n",
              "      <td>public_dataset/56a4e179-3a06-42f2-b029-1924db4...</td>\n",
              "      <td>20</td>\n",
              "      <td>0.0</td>\n",
              "      <td>0</td>\n",
              "      <td>0</td>\n",
              "      <td>0</td>\n",
              "    </tr>\n",
              "    <tr>\n",
              "      <th>27545</th>\n",
              "      <td>0.9620</td>\n",
              "      <td>public_dataset/10c2cd2a-d467-4535-8b63-f8cf820...</td>\n",
              "      <td>31</td>\n",
              "      <td>0.0</td>\n",
              "      <td>0</td>\n",
              "      <td>0</td>\n",
              "      <td>2</td>\n",
              "    </tr>\n",
              "    <tr>\n",
              "      <th>27546</th>\n",
              "      <td>0.4848</td>\n",
              "      <td>public_dataset/6d45e866-26cd-4c90-b538-8e3d746...</td>\n",
              "      <td>23</td>\n",
              "      <td>0.0</td>\n",
              "      <td>0</td>\n",
              "      <td>0</td>\n",
              "      <td>2</td>\n",
              "    </tr>\n",
              "    <tr>\n",
              "      <th>27548</th>\n",
              "      <td>0.8943</td>\n",
              "      <td>public_dataset/64117c4c-1389-4044-8cb0-b957eb0...</td>\n",
              "      <td>28</td>\n",
              "      <td>0.0</td>\n",
              "      <td>0</td>\n",
              "      <td>0</td>\n",
              "      <td>2</td>\n",
              "    </tr>\n",
              "  </tbody>\n",
              "</table>\n",
              "<p>15218 rows × 7 columns</p>\n",
              "</div>"
            ],
            "text/plain": [
              "      cough_detected  ... status\n",
              "1             0.9901  ...      0\n",
              "3             0.9847  ...      0\n",
              "4             0.9897  ...      0\n",
              "5             0.9974  ...      0\n",
              "9             0.9961  ...      0\n",
              "...              ...  ...    ...\n",
              "27542         0.9844  ...      0\n",
              "27544         0.8558  ...      0\n",
              "27545         0.9620  ...      2\n",
              "27546         0.4848  ...      2\n",
              "27548         0.8943  ...      2\n",
              "\n",
              "[15218 rows x 7 columns]"
            ]
          },
          "metadata": {
            "tags": []
          },
          "execution_count": 7
        }
      ]
    },
    {
      "cell_type": "code",
      "metadata": {
        "id": "q6_pyZtChe16"
      },
      "source": [
        ""
      ],
      "execution_count": 7,
      "outputs": []
    },
    {
      "cell_type": "code",
      "metadata": {
        "id": "yaOPfEmsJeRm"
      },
      "source": [
        "import keras.layers as layers\n",
        "import keras.models as models"
      ],
      "execution_count": 8,
      "outputs": []
    },
    {
      "cell_type": "code",
      "metadata": {
        "id": "vEnmq6JQ_2R6"
      },
      "source": [
        "class covid_net(models.Model):\n",
        "    def __init__(self):\n",
        "        super(covid_net, self).__init__()\n",
        " \n",
        "        \n",
        "        self.cnn2dModel = models.Sequential([\n",
        "                                             \n",
        "                                             layers.Conv2D(4, 5, 3, activation='relu'),\n",
        "                                             layers.MaxPooling2D(),\n",
        "                                             layers.Dropout(0.2),\n",
        "                                             layers.Conv2D(10, 3, 2, activation='relu'),\n",
        "                                             layers.MaxPooling2D(),\n",
        "                                             layers.Conv2D(40, 3, 1, activation='relu'),\n",
        "                                             layers.MaxPooling2D(),\n",
        "                                             layers.Dropout(0.2),\n",
        "                                             layers.Flatten()\n",
        "        ])\n",
        "        \n",
        "        self.cnnmodel = models.Sequential([\n",
        "                                            \n",
        "                                            layers.Conv1D(50, 30, 15, activation='relu'),\n",
        "                                            layers.MaxPooling1D(),\n",
        "                                            layers.Dropout(0.2),\n",
        "                                            layers.Conv1D(100, 20, 5, activation='relu'),\n",
        "                                            layers.MaxPooling1D(),\n",
        "                                            layers.BatchNormalization(),  \n",
        "                                            layers.LSTM(150, return_sequences=True),\n",
        "                                            layers.Dropout(0.2),\n",
        "                                            layers.Flatten()\n",
        " \n",
        "        ])\n",
        "        \n",
        "        self.output_layer = models.Sequential([\n",
        "                                                                                           \n",
        "                                                \n",
        "                                                layers.Dense(128, activation='relu'),\n",
        "                                                layers.Dropout(0.3),\n",
        "                                                layers.Dense(128, activation='relu'),\n",
        "                                                layers.Dense(3,activation='softmax')])\n",
        "        \n",
        "    def call(self, inps):\n",
        "        audio, infos, spectos = inps\n",
        "        spectox = self.cnn2dModel(spectos)\n",
        "        audiox = self.cnnmodel(audio)\n",
        "        x = layers.Concatenate(axis=1)([audiox, infos, spectox])\n",
        "        \n",
        "        return self.output_layer(x)\n",
        "model = covid_net()"
      ],
      "execution_count": 9,
      "outputs": []
    },
    {
      "cell_type": "markdown",
      "metadata": {
        "id": "HX2TL8f3KF9G"
      },
      "source": [
        ""
      ]
    },
    {
      "cell_type": "markdown",
      "metadata": {
        "id": "qhgmsjkzk3-O"
      },
      "source": [
        "# Handling Data Imbalance"
      ]
    },
    {
      "cell_type": "code",
      "metadata": {
        "colab": {
          "base_uri": "https://localhost:8080/",
          "height": 388
        },
        "id": "7NC-3dRmiLu5",
        "outputId": "dd508b86-7233-48e2-8a50-3814059896b6"
      },
      "source": [
        "plt.rcParams[\"figure.figsize\"] = (10,6)\n",
        "plt.hist(noNulldf['status'])\n",
        "plt.ylabel('Number of cases')\n",
        "plt.xlabel('0 = Healthy, 1 = COVID-19, 2 = Symptomatic')\n",
        "plt.show()"
      ],
      "execution_count": 10,
      "outputs": [
        {
          "output_type": "display_data",
          "data": {
            "image/png": "[encoded data removed]",
            "text/plain": [
              "<Figure size 720x432 with 1 Axes>"
            ]
          },
          "metadata": {
            "tags": [],
            "needs_background": "light"
          }
        }
      ]
    },
    {
      "cell_type": "code",
      "metadata": {
        "id": "n3xLk498fAOE",
        "colab": {
          "base_uri": "https://localhost:8080/"
        },
        "outputId": "7b007978-dd2f-498c-cbf1-a98c17ab16ce"
      },
      "source": [
        "# OVERSAMPLING\n",
        "classes_zero = noNulldf[noNulldf['status'] == 0]\n",
        "classes_one = noNulldf[noNulldf['status'] == 1]\n",
        "classes_two = noNulldf[noNulldf['status'] == 2]\n",
        " \n",
        "num_samples_class = 1500\n",
        " \n",
        "print(f'Class 0: {len(classes_zero)}')\n",
        "print(f'Class 1: {len(classes_one)}')\n",
        "print(f'Class 1: {len(classes_two)}')\n",
        " \n",
        "classes_zero = classes_zero.sample(num_samples_class, replace=True)\n",
        "classes_one = classes_one.sample(num_samples_class, replace=True)\n",
        "classes_two = classes_two.sample(num_samples_class, replace=True)\n",
        " \n",
        "print(\"AFTER OVERSAMPLING\")\n",
        "print(f'Class 0: {len(classes_zero)}')\n",
        "print(f'Class 1: {len(classes_one)}')\n",
        "print(f'Class 1: {len(classes_two)}')"
      ],
      "execution_count": 11,
      "outputs": [
        {
          "output_type": "stream",
          "text": [
            "Class 0: 11732\n",
            "Class 1: 965\n",
            "Class 1: 2521\n",
            "AFTER OVERSAMPLING\n",
            "Class 0: 1500\n",
            "Class 1: 1500\n",
            "Class 1: 1500\n"
          ],
          "name": "stdout"
        }
      ]
    },
    {
      "cell_type": "code",
      "metadata": {
        "id": "3AzipLSuiNWg",
        "colab": {
          "base_uri": "https://localhost:8080/",
          "height": 402
        },
        "outputId": "9905f3ba-638b-4b7b-8055-cfe285ba7272"
      },
      "source": [
        "oversampled_df = pd.concat([classes_zero,classes_one, classes_two], ignore_index=True).sample(frac=1, random_state=0)\n",
        "oversampled_df"
      ],
      "execution_count": 12,
      "outputs": [
        {
          "output_type": "execute_result",
          "data": {
            "text/html": [
              "<div>\n",
              "<style scoped>\n",
              "    .dataframe tbody tr th:only-of-type {\n",
              "        vertical-align: middle;\n",
              "    }\n",
              "\n",
              "    .dataframe tbody tr th {\n",
              "        vertical-align: top;\n",
              "    }\n",
              "\n",
              "    .dataframe thead th {\n",
              "        text-align: right;\n",
              "    }\n",
              "</style>\n",
              "<table border=\"1\" class=\"dataframe\">\n",
              "  <thead>\n",
              "    <tr style=\"text-align: right;\">\n",
              "      <th></th>\n",
              "      <th>cough_detected</th>\n",
              "      <th>audioName</th>\n",
              "      <th>age</th>\n",
              "      <th>gender</th>\n",
              "      <th>respiratory_condition</th>\n",
              "      <th>fever_muscle_pain</th>\n",
              "      <th>status</th>\n",
              "    </tr>\n",
              "  </thead>\n",
              "  <tbody>\n",
              "    <tr>\n",
              "      <th>854</th>\n",
              "      <td>0.2800</td>\n",
              "      <td>public_dataset/bd720b02-352c-497c-a23c-e4dc654...</td>\n",
              "      <td>55</td>\n",
              "      <td>0.0</td>\n",
              "      <td>0</td>\n",
              "      <td>0</td>\n",
              "      <td>0</td>\n",
              "    </tr>\n",
              "    <tr>\n",
              "      <th>2560</th>\n",
              "      <td>0.9944</td>\n",
              "      <td>public_dataset/52ba6875-b680-44e8-8ca2-eecb5a7...</td>\n",
              "      <td>20</td>\n",
              "      <td>0.0</td>\n",
              "      <td>0</td>\n",
              "      <td>0</td>\n",
              "      <td>1</td>\n",
              "    </tr>\n",
              "    <tr>\n",
              "      <th>2212</th>\n",
              "      <td>0.9777</td>\n",
              "      <td>public_dataset/89a9ccc6-5055-484f-b038-6b16bc1...</td>\n",
              "      <td>15</td>\n",
              "      <td>0.0</td>\n",
              "      <td>1</td>\n",
              "      <td>1</td>\n",
              "      <td>1</td>\n",
              "    </tr>\n",
              "    <tr>\n",
              "      <th>2347</th>\n",
              "      <td>0.9852</td>\n",
              "      <td>public_dataset/ace55ed0-37fb-4f08-bbc4-997092a...</td>\n",
              "      <td>32</td>\n",
              "      <td>0.0</td>\n",
              "      <td>0</td>\n",
              "      <td>0</td>\n",
              "      <td>1</td>\n",
              "    </tr>\n",
              "    <tr>\n",
              "      <th>1529</th>\n",
              "      <td>0.9292</td>\n",
              "      <td>public_dataset/123e6c0d-3d35-4978-b1b9-24b8498...</td>\n",
              "      <td>25</td>\n",
              "      <td>0.0</td>\n",
              "      <td>0</td>\n",
              "      <td>0</td>\n",
              "      <td>1</td>\n",
              "    </tr>\n",
              "    <tr>\n",
              "      <th>...</th>\n",
              "      <td>...</td>\n",
              "      <td>...</td>\n",
              "      <td>...</td>\n",
              "      <td>...</td>\n",
              "      <td>...</td>\n",
              "      <td>...</td>\n",
              "      <td>...</td>\n",
              "    </tr>\n",
              "    <tr>\n",
              "      <th>1033</th>\n",
              "      <td>0.2391</td>\n",
              "      <td>public_dataset/9c6bb0e7-c890-457d-bf68-744d9c1...</td>\n",
              "      <td>18</td>\n",
              "      <td>0.0</td>\n",
              "      <td>0</td>\n",
              "      <td>0</td>\n",
              "      <td>0</td>\n",
              "    </tr>\n",
              "    <tr>\n",
              "      <th>3264</th>\n",
              "      <td>0.9629</td>\n",
              "      <td>public_dataset/bf1b9f1b-84c4-45f3-973a-9fee12f...</td>\n",
              "      <td>43</td>\n",
              "      <td>1.0</td>\n",
              "      <td>1</td>\n",
              "      <td>0</td>\n",
              "      <td>2</td>\n",
              "    </tr>\n",
              "    <tr>\n",
              "      <th>1653</th>\n",
              "      <td>0.2417</td>\n",
              "      <td>public_dataset/11982ef5-3cd7-4dbf-90a4-6fcd778...</td>\n",
              "      <td>50</td>\n",
              "      <td>0.0</td>\n",
              "      <td>0</td>\n",
              "      <td>0</td>\n",
              "      <td>1</td>\n",
              "    </tr>\n",
              "    <tr>\n",
              "      <th>2607</th>\n",
              "      <td>0.1290</td>\n",
              "      <td>public_dataset/cfc5e6f0-954a-47af-854d-8a48681...</td>\n",
              "      <td>45</td>\n",
              "      <td>1.0</td>\n",
              "      <td>1</td>\n",
              "      <td>1</td>\n",
              "      <td>1</td>\n",
              "    </tr>\n",
              "    <tr>\n",
              "      <th>2732</th>\n",
              "      <td>0.9932</td>\n",
              "      <td>public_dataset/743e3025-0f64-4c6b-83ef-517ce49...</td>\n",
              "      <td>32</td>\n",
              "      <td>1.0</td>\n",
              "      <td>1</td>\n",
              "      <td>0</td>\n",
              "      <td>1</td>\n",
              "    </tr>\n",
              "  </tbody>\n",
              "</table>\n",
              "<p>4500 rows × 7 columns</p>\n",
              "</div>"
            ],
            "text/plain": [
              "     cough_detected  ... status\n",
              "854          0.2800  ...      0\n",
              "2560         0.9944  ...      1\n",
              "2212         0.9777  ...      1\n",
              "2347         0.9852  ...      1\n",
              "1529         0.9292  ...      1\n",
              "...             ...  ...    ...\n",
              "1033         0.2391  ...      0\n",
              "3264         0.9629  ...      2\n",
              "1653         0.2417  ...      1\n",
              "2607         0.1290  ...      1\n",
              "2732         0.9932  ...      1\n",
              "\n",
              "[4500 rows x 7 columns]"
            ]
          },
          "metadata": {
            "tags": []
          },
          "execution_count": 12
        }
      ]
    },
    {
      "cell_type": "code",
      "metadata": {
        "id": "CuX1WnXSKNuM"
      },
      "source": [
        "del df"
      ],
      "execution_count": 13,
      "outputs": []
    },
    {
      "cell_type": "code",
      "metadata": {
        "colab": {
          "base_uri": "https://localhost:8080/",
          "height": 388
        },
        "id": "xpxReGndkXwW",
        "outputId": "615fa289-d17f-4cbf-e684-53c0dc4c829a"
      },
      "source": [
        "plt.rcParams[\"figure.figsize\"] = (10,6)\n",
        "plt.hist(oversampled_df['status'], )\n",
        "plt.ylabel('Number of cases')\n",
        "plt.xlabel('0 = Healthy,  1 = COVID-19')\n",
        "plt.show()"
      ],
      "execution_count": 14,
      "outputs": [
        {
          "output_type": "display_data",
          "data": {
            "image/png": "[encoded data removed]",
            "text/plain": [
              "<Figure size 720x432 with 1 Axes>"
            ]
          },
          "metadata": {
            "tags": [],
            "needs_background": "light"
          }
        }
      ]
    },
    {
      "cell_type": "code",
      "metadata": {
        "colab": {
          "base_uri": "https://localhost:8080/"
        },
        "id": "huGGwLt0idrX",
        "outputId": "2e91e0e2-7cbe-4a7a-90eb-bc1a629352bd"
      },
      "source": [
        "import tensorflow_io as tfio\n",
        "audios = []\n",
        " \n",
        " \n",
        "for i in tqdm.tqdm(oversampled_df['audioName']):\n",
        "    segment = AudioSegment.from_file(i).set_frame_rate(15000)\n",
        "    arr = np.array(segment.get_array_of_samples(), dtype=np.float32)\n",
        "    if np.max(arr) == 0:\n",
        "        continue\n",
        "    arr = arr/np.max(arr)\n",
        "    \n",
        "    pos = tfio.audio.trim(tf.constant(arr), axis=0, epsilon=0.2)\n",
        "    audios.append(arr[pos[0]:pos[1]])\n",
        " \n",
        "padded_seq = pad_sequences(audios, dtype='float32', padding='post', maxlen=250000)  \n",
        "padded_seq = tf.reshape(padded_seq, (-1, 250000,1 ))"
      ],
      "execution_count": null,
      "outputs": [
        {
          "output_type": "stream",
          "text": [
            "  3%|▎         | 118/4500 [00:24<14:06,  5.18it/s]"
          ],
          "name": "stderr"
        }
      ]
    },
    {
      "cell_type": "code",
      "metadata": {
        "id": "3EJeMfqQckKp"
      },
      "source": [
        "x = np.array(oversampled_df[['cough_detected', 'respiratory_condition', 'fever_muscle_pain', 'gender', 'age']])\n",
        "labels = np.reshape(np.array(oversampled_df.status), (-1, 1))\n",
        "info = tf.constant(x, dtype=tf.float32)"
      ],
      "execution_count": null,
      "outputs": []
    },
    {
      "cell_type": "code",
      "metadata": {
        "id": "7DsIiOjgKRHz"
      },
      "source": [
        "del audios"
      ],
      "execution_count": null,
      "outputs": []
    },
    {
      "cell_type": "code",
      "metadata": {
        "id": "H5zKLMCog6KB"
      },
      "source": [
        "# Mel Spectograms\n",
        "import librosa\n",
        "def preprocess_audio_mel_T(audio, sample_rate=15000,  n_mels=200):\n",
        "\n",
        "    audio = tf.squeeze(audio).numpy()\n",
        "    mel_spec = librosa.feature.melspectrogram(y=audio, sr=sample_rate, n_mels= n_mels)\n",
        "    mel_db = (librosa.power_to_db(mel_spec, ref=np.max) + 40)/40\n",
        "\n",
        "    return mel_db.T\n",
        "specs = []\n",
        "for i in tqdm.tqdm(padded_seq):\n",
        "    specs.append(tf.constant(preprocess_audio_mel_T(i)))\n",
        "plt.imshow(specs[-1])"
      ],
      "execution_count": null,
      "outputs": []
    },
    {
      "cell_type": "code",
      "metadata": {
        "id": "LWisql1Fb3-b"
      },
      "source": [
        "specs[-1].shape"
      ],
      "execution_count": null,
      "outputs": []
    },
    {
      "cell_type": "code",
      "metadata": {
        "id": "hpBkIGEqkU-Z"
      },
      "source": [
        "for i in range(len(specs)):\n",
        "    specs[i] = np.reshape(specs[i], (*specs[-1].shape, 1))\n"
      ],
      "execution_count": null,
      "outputs": []
    },
    {
      "cell_type": "code",
      "metadata": {
        "id": "NxHBOwCzlA6p"
      },
      "source": [
        "specTensor = tf.constant(np.array(specs))\n",
        "del specs\n",
        "specTensor.shape"
      ],
      "execution_count": null,
      "outputs": []
    },
    {
      "cell_type": "code",
      "metadata": {
        "id": "kBhZS7dBqEfH"
      },
      "source": [
        "model.compile(optimizer='adam', loss='sparse_categorical_crossentropy', metrics=['acc'])"
      ],
      "execution_count": null,
      "outputs": []
    },
    {
      "cell_type": "code",
      "metadata": {
        "id": "FdXu7N-qiPXX"
      },
      "source": [
        ""
      ],
      "execution_count": null,
      "outputs": []
    },
    {
      "cell_type": "code",
      "metadata": {
        "id": "zeG1o4mTdCLD"
      },
      "source": [
        "metric = 'val_accuracy'\n",
        "c = tf.keras.callbacks.ModelCheckpoint(filepath=\"ModelWeights/bestAcc\", monitor=metric,\n",
        "                    verbose=2, save_best_only=True, mode='max')"
      ],
      "execution_count": null,
      "outputs": []
    },
    {
      "cell_type": "code",
      "metadata": {
        "id": "FX1MRgsqlfaX"
      },
      "source": [
        "history = model.fit((padded_seq, info, specTensor), labels, epochs=10, validation_split=0.2, callbacks = [c])"
      ],
      "execution_count": null,
      "outputs": []
    },
    {
      "cell_type": "code",
      "metadata": {
        "id": "qfRqhK5aqASF"
      },
      "source": [
        "plt.plot(history.history['val_loss'])"
      ],
      "execution_count": null,
      "outputs": []
    }
  ]
}